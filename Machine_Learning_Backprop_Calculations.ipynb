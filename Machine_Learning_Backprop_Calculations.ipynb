{
  "nbformat": 4,
  "nbformat_minor": 0,
  "metadata": {
    "colab": {
      "provenance": [],
      "authorship_tag": "ABX9TyMwwDiLyaE3JI/LMqi4c7dd",
      "include_colab_link": true
    },
    "kernelspec": {
      "name": "python3",
      "display_name": "Python 3"
    },
    "language_info": {
      "name": "python"
    }
  },
  "cells": [
    {
      "cell_type": "markdown",
      "metadata": {
        "id": "view-in-github",
        "colab_type": "text"
      },
      "source": [
        "<a href=\"https://colab.research.google.com/github/hemanthkumar17/Machine-Learning/blob/main/Machine_Learning_Backprop_Calculations.ipynb\" target=\"_parent\"><img src=\"https://colab.research.google.com/assets/colab-badge.svg\" alt=\"Open In Colab\"/></a>"
      ]
    },
    {
      "cell_type": "code",
      "execution_count": null,
      "metadata": {
        "id": "sMlvXJkV9K19"
      },
      "outputs": [],
      "source": [
        "import numpy as np"
      ]
    },
    {
      "cell_type": "code",
      "source": [
        "import torch"
      ],
      "metadata": {
        "id": "X9RO3yWC9e-x"
      },
      "execution_count": null,
      "outputs": []
    },
    {
      "cell_type": "code",
      "source": [
        "w1 = torch.tensor([\n",
        "    [1, -1],\n",
        "    [0, 0],\n",
        "    [1, 1]\n",
        "], dtype=torch.float32, requires_grad=True)\n",
        "w2 = torch.tensor([[1, 0, -1]], dtype=torch.float32, requires_grad=True)\n",
        "x = torch.tensor([\n",
        "    [1, -2],\n",
        "    [5, -9],\n",
        "    [-3, 2]\n",
        "], dtype=torch.float32).T\n",
        "y = torch.tensor([\n",
        "    [0.1],\n",
        "    [1],\n",
        "    [0.8]\n",
        "], dtype=torch.float32)"
      ],
      "metadata": {
        "id": "MnofNpW19MaC"
      },
      "execution_count": null,
      "outputs": []
    },
    {
      "cell_type": "code",
      "source": [
        "from torch import nn\n",
        "class LazyModel(torch.nn.Module):\n",
        "    def __init__(self, w1, w2):\n",
        "        super(LazyModel, self).__init__()\n",
        "        self.w1 = w1\n",
        "        self.w2 = w2\n",
        "        self.relu = nn.ReLU()\n",
        "    def forward(self, x):\n",
        "        self.out = torch.einsum(\"ij,jk->ik\", self.w1, x)\n",
        "        self.out_r = self.relu(self.out)\n",
        "        self.out.retain_grad()\n",
        "        self.out_r.retain_grad()\n",
        "        self.out1 = torch.einsum(\"ij,jk->ik\", self.w2, self.out_r)\n",
        "        self.out1.retain_grad()\n",
        "        self.out2 = torch.sigmoid(self.out1)\n",
        "        self.out2.retain_grad()\n",
        "        return self.out2"
      ],
      "metadata": {
        "id": "eSf77zU--L5R"
      },
      "execution_count": null,
      "outputs": []
    },
    {
      "cell_type": "code",
      "source": [
        "model = LazyModel(w1, w2)"
      ],
      "metadata": {
        "id": "p6_R7asf_C4D"
      },
      "execution_count": null,
      "outputs": []
    },
    {
      "cell_type": "code",
      "source": [
        "lr = 1"
      ],
      "metadata": {
        "id": "J4l3NK05_8lB"
      },
      "execution_count": null,
      "outputs": []
    },
    {
      "cell_type": "code",
      "source": [
        "loss = nn.MSELoss()\n",
        "\n",
        "pred = model(x)\n",
        "print(\"*\"*20 + \"\\tActivations\\t\" + \"*\"*20)\n",
        "print(model.out)\n",
        "print(model.out_r)\n",
        "print(model.out1)\n",
        "print(model.out2)\n",
        "print(\"*\"*20 + \"\\tPredictions\\t\" + \"*\"*20)\n",
        "print(pred)\n",
        "print(y)\n",
        "l = loss(pred, y.T)\n",
        "print(y.T)\n",
        "print(\"*\"*20 + \"\\tLoss and weights b4\\t\" + \"*\"*20)\n",
        "print(l)\n",
        "\n",
        "l.backward()\n",
        "\n",
        "print(model.w1)\n",
        "print(model.w2)\n",
        "print(\"*\"*20 + \"\\tGradients w1 and w2\\t\" + \"*\"*20)\n",
        "print(model.w1.grad.data)\n",
        "print(model.w2.grad.data)\n",
        "print(\"*\"*20 + \"\\tGradients o3, o2, a1 and o1\\t\" + \"*\"*20)\n",
        "print(model.out2.grad.data)\n",
        "print(model.out1.grad.data)\n",
        "print(model.out_r.grad.data)\n",
        "print(model.out.grad.data)\n",
        "with torch.no_grad():\n",
        "    model.w1.data -= lr * model.w1.grad.data\n",
        "    model.w2.data -= lr * model.w2.grad.data\n",
        "\n",
        "print(\"*\"*20 + \"\\tWeights after update\\t\" + \"*\"*20)\n",
        "print(model.w1)\n",
        "print(model.w2)"
      ],
      "metadata": {
        "colab": {
          "base_uri": "https://localhost:8080/"
        },
        "id": "tla3DezMKHZi",
        "outputId": "056db530-f304-42ac-b8e6-ce650259355d"
      },
      "execution_count": null,
      "outputs": [
        {
          "output_type": "stream",
          "name": "stdout",
          "text": [
            "********************\tActivations\t********************\n",
            "tensor([[ 3., 14., -5.],\n",
            "        [ 0.,  0.,  0.],\n",
            "        [-1., -4., -1.]], grad_fn=<ViewBackward0>)\n",
            "tensor([[ 3., 14.,  0.],\n",
            "        [ 0.,  0.,  0.],\n",
            "        [ 0.,  0.,  0.]], grad_fn=<ReluBackward0>)\n",
            "tensor([[ 3., 14.,  0.]], grad_fn=<ViewBackward0>)\n",
            "tensor([[0.9526, 1.0000, 0.5000]], grad_fn=<SigmoidBackward0>)\n",
            "********************\tPredictions\t********************\n",
            "tensor([[0.9526, 1.0000, 0.5000]], grad_fn=<SigmoidBackward0>)\n",
            "tensor([[0.1000],\n",
            "        [1.0000],\n",
            "        [0.8000]])\n",
            "tensor([[0.1000, 1.0000, 0.8000]])\n",
            "********************\tLoss and weights b4\t********************\n",
            "tensor(0.2723, grad_fn=<MseLossBackward0>)\n",
            "tensor([[ 1., -1.],\n",
            "        [ 0.,  0.],\n",
            "        [ 1.,  1.]], requires_grad=True)\n",
            "tensor([[ 1.,  0., -1.]], requires_grad=True)\n",
            "********************\tGradients w1 and w2\t********************\n",
            "tensor([[ 0.0257, -0.0514],\n",
            "        [ 0.0000,  0.0000],\n",
            "        [ 0.0000,  0.0000]])\n",
            "tensor([[0.0770, 0.0000, 0.0000]])\n",
            "********************\tGradients o3, o2, a1 and o1\t********************\n",
            "tensor([[ 5.6838e-01, -5.5631e-07, -2.0000e-01]])\n",
            "tensor([[ 2.5678e-02, -4.6422e-13, -5.0000e-02]])\n",
            "tensor([[ 2.5678e-02, -4.6422e-13, -5.0000e-02],\n",
            "        [ 0.0000e+00,  0.0000e+00,  0.0000e+00],\n",
            "        [-2.5678e-02,  4.6422e-13,  5.0000e-02]])\n",
            "tensor([[ 2.5678e-02, -4.6422e-13,  0.0000e+00],\n",
            "        [ 0.0000e+00,  0.0000e+00,  0.0000e+00],\n",
            "        [ 0.0000e+00,  0.0000e+00,  0.0000e+00]])\n",
            "********************\tWeights after update\t********************\n",
            "tensor([[ 0.9743, -0.9486],\n",
            "        [ 0.0000,  0.0000],\n",
            "        [ 1.0000,  1.0000]], requires_grad=True)\n",
            "tensor([[ 0.9230,  0.0000, -1.0000]], requires_grad=True)\n"
          ]
        }
      ]
    },
    {
      "cell_type": "code",
      "source": [
        "model.out.grad"
      ],
      "metadata": {
        "colab": {
          "base_uri": "https://localhost:8080/"
        },
        "id": "ZA9UaWVRhEwX",
        "outputId": "18aecb57-9ace-4147-c64b-2f10e5439649"
      },
      "execution_count": null,
      "outputs": [
        {
          "output_type": "execute_result",
          "data": {
            "text/plain": [
              "tensor([[ 2.5678e-02, -4.6422e-13,  0.0000e+00],\n",
              "        [ 0.0000e+00,  0.0000e+00,  0.0000e+00],\n",
              "        [ 0.0000e+00,  0.0000e+00,  0.0000e+00]])"
            ]
          },
          "metadata": {},
          "execution_count": 106
        }
      ]
    },
    {
      "cell_type": "code",
      "source": [
        "model.out1.grad"
      ],
      "metadata": {
        "colab": {
          "base_uri": "https://localhost:8080/"
        },
        "id": "tWqdDpmqibAZ",
        "outputId": "114cdb8b-0a2f-40a6-efe5-7bc49eed1a98"
      },
      "execution_count": null,
      "outputs": [
        {
          "output_type": "execute_result",
          "data": {
            "text/plain": [
              "tensor([[ 2.5678e-02, -4.6422e-13, -5.0000e-02]])"
            ]
          },
          "metadata": {},
          "execution_count": 107
        }
      ]
    },
    {
      "cell_type": "code",
      "source": [
        "model.out2.grad"
      ],
      "metadata": {
        "colab": {
          "base_uri": "https://localhost:8080/"
        },
        "id": "ZkT7cddTipVK",
        "outputId": "38319ebc-5b0e-4203-8334-b95bd5cb7076"
      },
      "execution_count": null,
      "outputs": [
        {
          "output_type": "execute_result",
          "data": {
            "text/plain": [
              "tensor([[ 5.6838e-01, -5.5631e-07, -2.0000e-01]])"
            ]
          },
          "metadata": {},
          "execution_count": 108
        }
      ]
    }
  ]
}